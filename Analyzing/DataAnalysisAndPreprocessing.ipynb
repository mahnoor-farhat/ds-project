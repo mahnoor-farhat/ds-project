{
 "cells": [
  {
   "cell_type": "markdown",
   "id": "fb95b2d6",
   "metadata": {},
   "source": [
    "Importing Required Libraries"
   ]
  },
  {
   "cell_type": "code",
   "execution_count": 38,
   "id": "61a1a015",
   "metadata": {
    "execution": {
     "iopub.execute_input": "2024-07-26T17:00:07.173414Z",
     "iopub.status.busy": "2024-07-26T17:00:07.172753Z",
     "iopub.status.idle": "2024-07-26T17:00:26.475609Z",
     "shell.execute_reply": "2024-07-26T17:00:26.473608Z"
    },
    "id": "61a1a015",
    "outputId": "7710ed2a-01cb-4832-ecca-3b9ed4810583",
    "papermill": {
     "duration": 19.32308,
     "end_time": "2024-07-26T17:00:26.479493",
     "exception": false,
     "start_time": "2024-07-26T17:00:07.156413",
     "status": "completed"
    },
    "tags": []
   },
   "outputs": [],
   "source": [
    "import os\n",
    "import pickle\n",
    "import string\n",
    "import unicodedata\n",
    "from random import randint\n",
    "import pandas as pd\n",
    "import numpy as np\n",
    "import matplotlib.pyplot as plt\n",
    "from num2words import num2words\n",
    "import tensorflow as tf\n",
    "from datasets import load_dataset\n",
    "import string\n",
    "import re\n",
    "import nltk\n",
    "from nltk.corpus import stopwords\n",
    "from bs4 import BeautifulSoup"
   ]
  },
  {
   "cell_type": "code",
   "execution_count": 6,
   "id": "9bff2bb9",
   "metadata": {
    "execution": {
     "iopub.execute_input": "2024-07-26T17:00:26.516018Z",
     "iopub.status.busy": "2024-07-26T17:00:26.514733Z",
     "iopub.status.idle": "2024-07-26T17:00:26.622572Z",
     "shell.execute_reply": "2024-07-26T17:00:26.620606Z"
    },
    "id": "9bff2bb9",
    "outputId": "de4a6777-7cbf-4c2f-e0f3-9685ec2d8703",
    "papermill": {
     "duration": 0.146642,
     "end_time": "2024-07-26T17:00:26.641874",
     "exception": false,
     "start_time": "2024-07-26T17:00:26.495232",
     "status": "completed"
    },
    "tags": []
   },
   "outputs": [
    {
     "name": "stderr",
     "output_type": "stream",
     "text": [
      "[nltk_data] Downloading package stopwords to C:\\Users\\Syed Salman\n",
      "[nltk_data]     Ali\\AppData\\Roaming\\nltk_data...\n",
      "[nltk_data]   Package stopwords is already up-to-date!\n"
     ]
    },
    {
     "data": {
      "text/plain": [
       "True"
      ]
     },
     "execution_count": 6,
     "metadata": {},
     "output_type": "execute_result"
    }
   ],
   "source": [
    "nltk.download('stopwords') # downloading stopwords"
   ]
  },
  {
   "cell_type": "markdown",
   "id": "558a46d5",
   "metadata": {},
   "source": [
    "Pubmed Dataset Loading"
   ]
  },
  {
   "cell_type": "code",
   "execution_count": 39,
   "id": "207d6103",
   "metadata": {
    "colab": {
     "referenced_widgets": [
      "129b381ac1f34987ac215f07e3a21523",
      "6fc728b88cf04255a17567798227510c",
      "e74bdf43d9d94b42b856ab4e41018f1b",
      "fb497d265f49421e8a0332952e8fca3a",
      "366f7ebdba97479f80b25a43cd690c02",
      "d3b9604ef2e442969fd63ed59ff769f4",
      "9f3ef253f3d44c5bbde17a581981139e",
      "6dd29a7ce0764fc19d46e23909db6b44",
      "2e0912bc3443405092478a8eee8dcf7c",
      "0fc1984f85bc44d981c40f4404dd6176"
     ]
    },
    "execution": {
     "iopub.execute_input": "2024-07-26T17:00:26.675510Z",
     "iopub.status.busy": "2024-07-26T17:00:26.674351Z",
     "iopub.status.idle": "2024-07-26T17:01:14.969808Z",
     "shell.execute_reply": "2024-07-26T17:01:14.968622Z"
    },
    "id": "207d6103",
    "outputId": "a7ba9c20-df94-48ad-a6fb-cd5e951065e7",
    "papermill": {
     "duration": 48.315195,
     "end_time": "2024-07-26T17:01:14.972532",
     "exception": false,
     "start_time": "2024-07-26T17:00:26.657337",
     "status": "completed"
    },
    "tags": []
   },
   "outputs": [],
   "source": [
    "ds = load_dataset(\"ccdv/pubmed-summarization\", \"section\")"
   ]
  },
  {
   "cell_type": "code",
   "execution_count": 62,
   "id": "0fdb6b3a",
   "metadata": {},
   "outputs": [],
   "source": [
    "# Converting to a dataframe\n",
    "df_train = ds['train'].to_pandas()\n",
    "df_test = ds['test'].to_pandas()\n",
    "df_val = ds['validation'].to_pandas()"
   ]
  },
  {
   "cell_type": "code",
   "execution_count": 63,
   "id": "ab2c3ca6",
   "metadata": {},
   "outputs": [],
   "source": [
    "# Combine the training and validation datasets for processing\n",
    "df = pd.concat([df_train, df_test, df_val], ignore_index=True)"
   ]
  },
  {
   "cell_type": "code",
   "execution_count": 64,
   "id": "369945f6",
   "metadata": {},
   "outputs": [],
   "source": [
    "# Shuffling the dataframe\n",
    "df = df.sample(frac=1, random_state=42).reset_index(drop=True)"
   ]
  },
  {
   "cell_type": "code",
   "execution_count": 65,
   "id": "0f699e2a",
   "metadata": {},
   "outputs": [],
   "source": [
    "# Drop Duplicates and N/A values\n",
    "df.drop_duplicates(subset=['article'],inplace=True)\n",
    "df.dropna(axis=0,inplace=True)"
   ]
  },
  {
   "cell_type": "markdown",
   "id": "f199a53c",
   "metadata": {},
   "source": [
    "Data Cleaning & Preprocessing"
   ]
  },
  {
   "cell_type": "code",
   "execution_count": 68,
   "id": "6c5f9fa2",
   "metadata": {},
   "outputs": [],
   "source": [
    "stop_words = set(stopwords.words('english')) # Creating a set of English stopwords\n",
    "\n",
    "def clean_and_preprocess_text(text, num):\n",
    "    \"\"\"\n",
    "    This function cleans and preprocesses a text by:\n",
    "    - Converting numbers to words.\n",
    "    - Removing HTML tags and URLs.\n",
    "    - Removing excess whitespace.\n",
    "    - Lowercasing text.\n",
    "    - Removing punctuation and non-alphabetic characters.\n",
    "    - Removing stopwords.\n",
    "    \"\"\"\n",
    "    \n",
    "    def replace_number(match):\n",
    "        number = int(match.group())\n",
    "        try:\n",
    "            return num2words(number)\n",
    "        except OverflowError:\n",
    "            # If the number is too large, return the original number as a string\n",
    "            return str(number)\n",
    "\n",
    "    # Function to preprocess text\n",
    "    def preprocess_text(text):\n",
    "        # Removing HTML tags\n",
    "        text = BeautifulSoup(text, \"html.parser\").get_text()\n",
    "        # Removing URLs\n",
    "        text = re.sub(r'http\\S+|www\\S+|https\\S+', '', text, flags=re.MULTILINE)\n",
    "        # Removing excess whitespace\n",
    "        text = ' '.join(text.split())\n",
    "\n",
    "        return text\n",
    "    \n",
    "    # Convert numbers to words\n",
    "    text = re.sub(r'\\b\\d+\\b', replace_number, text)\n",
    "    \n",
    "    # Preprocess the text\n",
    "    text = preprocess_text(text)\n",
    "    \n",
    "    # Additional cleaning steps\n",
    "    text = text.lower()\n",
    "    text = re.sub(r'\\([^)]*\\)', '', text)\n",
    "    text = re.sub('\"', '', text)  \n",
    "    text = re.sub(r\"'s\\b\", \"\", text)\n",
    "    text = re.sub(\"[^a-zA-Z]\", \" \", text) \n",
    "    \n",
    "    # Clean texts with num 0\n",
    "    if num == 0:\n",
    "        tokens = [w for w in text.split() if not w in stop_words]\n",
    "\n",
    "    # Clean Summaries with num 1\n",
    "    else:\n",
    "        tokens = text.split()\n",
    "    \n",
    "    long_words = []\n",
    "    for i in tokens:\n",
    "        if len(i) > 1:\n",
    "            long_words.append(i)   \n",
    "    return (\" \".join(long_words)).strip()"
   ]
  },
  {
   "cell_type": "code",
   "execution_count": 1,
   "id": "55e17b75",
   "metadata": {},
   "outputs": [],
   "source": [
    "# clean the articles \n",
    "cleaned_texts = []\n",
    "\n",
    "for t in df[\"article\"]:\n",
    "    cleaned_texts.append(clean_and_preprocess_text(t, 0))"
   ]
  },
  {
   "cell_type": "code",
   "execution_count": 70,
   "id": "b0b0a15c",
   "metadata": {},
   "outputs": [],
   "source": [
    "# clean the abstracts\n",
    "cleaned_summaries = []\n",
    "\n",
    "for s in df[\"abstract\"]:\n",
    "    cleaned_summaries.append(clean_and_preprocess_text(s, 1))"
   ]
  },
  {
   "cell_type": "code",
   "execution_count": 71,
   "id": "8c9ffda4",
   "metadata": {},
   "outputs": [],
   "source": [
    "# create new dataframe for the cleaned articles and abstracts \n",
    "dataframe = pd.DataFrame(columns=[\"article\", \"abstract\"])\n",
    "\n",
    "# put cleaned version of articles and abstracts into the dataframe\n",
    "dataframe[\"article\"] = cleaned_texts\n",
    "dataframe[\"abstract\"] = cleaned_summaries"
   ]
  },
  {
   "cell_type": "code",
   "execution_count": 72,
   "id": "a0e2fb32",
   "metadata": {},
   "outputs": [
    {
     "data": {
      "text/html": [
       "<div>\n",
       "<style scoped>\n",
       "    .dataframe tbody tr th:only-of-type {\n",
       "        vertical-align: middle;\n",
       "    }\n",
       "\n",
       "    .dataframe tbody tr th {\n",
       "        vertical-align: top;\n",
       "    }\n",
       "\n",
       "    .dataframe thead th {\n",
       "        text-align: right;\n",
       "    }\n",
       "</style>\n",
       "<table border=\"1\" class=\"dataframe\">\n",
       "  <thead>\n",
       "    <tr style=\"text-align: right;\">\n",
       "      <th></th>\n",
       "      <th>article</th>\n",
       "      <th>abstract</th>\n",
       "    </tr>\n",
       "  </thead>\n",
       "  <tbody>\n",
       "    <tr>\n",
       "      <th>0</th>\n",
       "      <td>present ten fifty five cases trotter konarik r...</td>\n",
       "      <td>variations of arterial patterns in the upper l...</td>\n",
       "    </tr>\n",
       "    <tr>\n",
       "      <th>1</th>\n",
       "      <td>cervical samples obtained collaboration cytopa...</td>\n",
       "      <td>aimspectral cytopathology is novel spectroscop...</td>\n",
       "    </tr>\n",
       "    <tr>\n",
       "      <th>2</th>\n",
       "      <td>past years became clear frontotemporal lobar d...</td>\n",
       "      <td>aggregation of misfolded tar dna binding prote...</td>\n",
       "    </tr>\n",
       "    <tr>\n",
       "      <th>3</th>\n",
       "      <td>patient ten month old boy born term october tw...</td>\n",
       "      <td>patients with primary immunodeficiency are pro...</td>\n",
       "    </tr>\n",
       "    <tr>\n",
       "      <th>4</th>\n",
       "      <td>aureus causative microorganism nosocomial infe...</td>\n",
       "      <td>the emergence of multidrug resistant staphyloc...</td>\n",
       "    </tr>\n",
       "    <tr>\n",
       "      <th>...</th>\n",
       "      <td>...</td>\n",
       "      <td>...</td>\n",
       "    </tr>\n",
       "    <tr>\n",
       "      <th>130205</th>\n",
       "      <td>histopathological diagnosis patients systemic ...</td>\n",
       "      <td>some patients with systemic lupus erythematosu...</td>\n",
       "    </tr>\n",
       "    <tr>\n",
       "      <th>130206</th>\n",
       "      <td>endophthalmitis caused filamentous fungi high ...</td>\n",
       "      <td>purposeto report outcomes of exogenous fungal ...</td>\n",
       "    </tr>\n",
       "    <tr>\n",
       "      <th>130207</th>\n",
       "      <td>although exercise tolerance test widely used c...</td>\n",
       "      <td>the relationship between blood pressure respon...</td>\n",
       "    </tr>\n",
       "    <tr>\n",
       "      <th>130208</th>\n",
       "      <td>since introduction microarrays considerable in...</td>\n",
       "      <td>there is need to identify genetic mediators of...</td>\n",
       "    </tr>\n",
       "    <tr>\n",
       "      <th>130209</th>\n",
       "      <td>stressful events activate sympathetic nervous ...</td>\n",
       "      <td>recent evidence supports longstanding hypothes...</td>\n",
       "    </tr>\n",
       "  </tbody>\n",
       "</table>\n",
       "<p>130210 rows × 2 columns</p>\n",
       "</div>"
      ],
      "text/plain": [
       "                                                  article  \\\n",
       "0       present ten fifty five cases trotter konarik r...   \n",
       "1       cervical samples obtained collaboration cytopa...   \n",
       "2       past years became clear frontotemporal lobar d...   \n",
       "3       patient ten month old boy born term october tw...   \n",
       "4       aureus causative microorganism nosocomial infe...   \n",
       "...                                                   ...   \n",
       "130205  histopathological diagnosis patients systemic ...   \n",
       "130206  endophthalmitis caused filamentous fungi high ...   \n",
       "130207  although exercise tolerance test widely used c...   \n",
       "130208  since introduction microarrays considerable in...   \n",
       "130209  stressful events activate sympathetic nervous ...   \n",
       "\n",
       "                                                 abstract  \n",
       "0       variations of arterial patterns in the upper l...  \n",
       "1       aimspectral cytopathology is novel spectroscop...  \n",
       "2       aggregation of misfolded tar dna binding prote...  \n",
       "3       patients with primary immunodeficiency are pro...  \n",
       "4       the emergence of multidrug resistant staphyloc...  \n",
       "...                                                   ...  \n",
       "130205  some patients with systemic lupus erythematosu...  \n",
       "130206  purposeto report outcomes of exogenous fungal ...  \n",
       "130207  the relationship between blood pressure respon...  \n",
       "130208  there is need to identify genetic mediators of...  \n",
       "130209  recent evidence supports longstanding hypothes...  \n",
       "\n",
       "[130210 rows x 2 columns]"
      ]
     },
     "execution_count": 72,
     "metadata": {},
     "output_type": "execute_result"
    }
   ],
   "source": [
    "dataframe"
   ]
  },
  {
   "cell_type": "code",
   "execution_count": 73,
   "id": "2bc062c5",
   "metadata": {},
   "outputs": [],
   "source": [
    "# Drop Duplicates and N/A values\n",
    "dataframe.replace('', np.nan, inplace=True)\n",
    "dataframe.dropna(axis=0,inplace=True)"
   ]
  },
  {
   "cell_type": "code",
   "execution_count": 74,
   "id": "abb14793",
   "metadata": {},
   "outputs": [],
   "source": [
    "# define articles' and abstracts' max length\n",
    "MAX_ARTICLE_LEN = 100\n",
    "MAX_ABSTRACT_LEN = 50"
   ]
  },
  {
   "cell_type": "code",
   "execution_count": 75,
   "id": "3919ac69",
   "metadata": {},
   "outputs": [],
   "source": [
    "# Convert the articles and abstracts into arrays\n",
    "cleaned_text = np.array(dataframe[\"article\"])\n",
    "cleaned_summary = np.array(dataframe[\"abstract\"])\n",
    "\n",
    "# define lists for short articles and abstracts\n",
    "short_text = []\n",
    "short_summary = []\n",
    "\n",
    "# cleaning outliers\n",
    "for i in range(len(cleaned_text)):\n",
    "    if(len(cleaned_summary[i].split()) <= MAX_ABSTRACT_LEN and len(cleaned_text[i].split()) <= MAX_ARTICLE_LEN):\n",
    "        short_text.append(cleaned_text[i])\n",
    "        short_summary.append(cleaned_summary[i])\n",
    "\n",
    "# Initializing a new dataframe\n",
    "final_dataframe = pd.DataFrame({\"article\":short_text, \"abstract\":short_summary})"
   ]
  },
  {
   "cell_type": "code",
   "execution_count": 76,
   "id": "7e82a38e",
   "metadata": {},
   "outputs": [],
   "source": [
    "# Applying starting & ending tokens\n",
    "final_dataframe[\"abstract\"] = final_dataframe[\"abstract\"].apply(lambda x: \"soseq \" + x + \" eoseq\")"
   ]
  },
  {
   "cell_type": "code",
   "execution_count": 77,
   "id": "237afa86",
   "metadata": {},
   "outputs": [
    {
     "name": "stdout",
     "output_type": "stream",
     "text": [
      "\u001b[1mText: \u001b[0mauthors report conflicts interest authors alone responsible content writing article\n",
      "\u001b[1mSummary: \u001b[0msoseq abstractthe exposure of prosthetic vascular graft is dangerous complication in revascularization procedures in this case report we describe successful coverage of an exposed prosthetic femorofemoral vascular graft in the suprapubic area with vertical rectus abdominis myocutaneous island flap eoseq\n",
      "\n",
      "\n",
      "\u001b[1mText: \u001b[0mabdominal cystic lymphangiomas rare occur secondary congenital malformation lymphatics mostly mesenterium acute chronic volvulus small bowel may occur traction lymphangioma transverse supraumbilical laparotomy performed volvulus small bowel seen lead point volvulus seven cm benign cystic lymphangioma located fifteen cm distal treitz ligament vital bowel repositioned cyst resected including small section jejunum anastomosed end end\n",
      "\u001b[1mSummary: \u001b[0msoseq key clinical messageabdominal cystic lymphangiomas are rare and occur secondary to congenital malformation of the lymphatics mostly in the mesenterium acute or chronic volvulus of the small bowel may occur by traction of the lymphangioma therapy includes resection of the lymphangioma and of the small bowel involved eoseq\n",
      "\n",
      "\n",
      "\u001b[1mText: \u001b[0mmaldi tof ms spectrum bacillus massiliogabonensis available hundred fifty six titre urms database rrna gene sequence strain marseille deposited genbank database accession number lt strain marseille deposited collection de souches de lunit des rickettsies registered number\n",
      "\u001b[1mSummary: \u001b[0msoseq the discovery of new bacteria from the human gut using culturomics method is novel field of increasing interest in microbiology here the main characteristics of bacillus massiliogabonensis strain marseille new gram negative bacterium isolated from the stool sample of healthy sixteen year old gabonese boy are reported eoseq\n",
      "\n",
      "\n"
     ]
    }
   ],
   "source": [
    "# Printing a sample of the dataframe\n",
    "for i in range(3):\n",
    "  print(\"\\033[1m\" + \"Text: \" + \"\\033[0m\" + final_dataframe[\"article\"][i]) # article --> Text\n",
    "  print(\"\\033[1m\" + \"Summary: \" + \"\\033[0m\" + final_dataframe[\"abstract\"][i]) # abstract --> Summary\n",
    "  print(\"\\n\")"
   ]
  },
  {
   "cell_type": "code",
   "execution_count": 81,
   "id": "e90d7256",
   "metadata": {},
   "outputs": [],
   "source": [
    "# Shuffling the dataframe\n",
    "dataframe = dataframe.sample(frac=1, random_state=42).reset_index(drop=True)"
   ]
  },
  {
   "cell_type": "code",
   "execution_count": 82,
   "id": "2105188e",
   "metadata": {},
   "outputs": [],
   "source": [
    "dataframe = dataframe.head(10000) #Taking a subset of the dataframe"
   ]
  },
  {
   "cell_type": "code",
   "execution_count": 83,
   "id": "b3ff75ba",
   "metadata": {},
   "outputs": [
    {
     "data": {
      "text/plain": [
       "(10000, 2)"
      ]
     },
     "execution_count": 83,
     "metadata": {},
     "output_type": "execute_result"
    }
   ],
   "source": [
    "dataframe.shape # Checking shape of the dataset"
   ]
  },
  {
   "cell_type": "code",
   "execution_count": 84,
   "id": "0d783d66",
   "metadata": {},
   "outputs": [],
   "source": [
    "dataframe.to_parquet('preprocessed_data.parquet') # Saving the preprocessed dataset as a parquet file format"
   ]
  },
  {
   "cell_type": "code",
   "execution_count": 85,
   "id": "713bfe63",
   "metadata": {},
   "outputs": [
    {
     "data": {
      "text/html": [
       "<div>\n",
       "<style scoped>\n",
       "    .dataframe tbody tr th:only-of-type {\n",
       "        vertical-align: middle;\n",
       "    }\n",
       "\n",
       "    .dataframe tbody tr th {\n",
       "        vertical-align: top;\n",
       "    }\n",
       "\n",
       "    .dataframe thead th {\n",
       "        text-align: right;\n",
       "    }\n",
       "</style>\n",
       "<table border=\"1\" class=\"dataframe\">\n",
       "  <thead>\n",
       "    <tr style=\"text-align: right;\">\n",
       "      <th></th>\n",
       "      <th>article</th>\n",
       "      <th>abstract</th>\n",
       "    </tr>\n",
       "  </thead>\n",
       "  <tbody>\n",
       "    <tr>\n",
       "      <th>0</th>\n",
       "      <td>eligible participants one thousand eight hundr...</td>\n",
       "      <td>objectivetaspoglutide is long acting glucagon ...</td>\n",
       "    </tr>\n",
       "    <tr>\n",
       "      <th>1</th>\n",
       "      <td>reactive oxygen species cytokines considered i...</td>\n",
       "      <td>pancreatic cancer is one of the most aggressiv...</td>\n",
       "    </tr>\n",
       "    <tr>\n",
       "      <th>2</th>\n",
       "      <td>sixty two year old female patient referred reg...</td>\n",
       "      <td>plasmacytoma is plasma cell neoplasm that loca...</td>\n",
       "    </tr>\n",
       "    <tr>\n",
       "      <th>3</th>\n",
       "      <td>major advantage small molecule cell based scre...</td>\n",
       "      <td>summarywe have carried out cell based screen a...</td>\n",
       "    </tr>\n",
       "    <tr>\n",
       "      <th>4</th>\n",
       "      <td>elevation brain temperature common acute ische...</td>\n",
       "      <td>brain temperature is elevated in acute ischemi...</td>\n",
       "    </tr>\n",
       "  </tbody>\n",
       "</table>\n",
       "</div>"
      ],
      "text/plain": [
       "                                             article  \\\n",
       "0  eligible participants one thousand eight hundr...   \n",
       "1  reactive oxygen species cytokines considered i...   \n",
       "2  sixty two year old female patient referred reg...   \n",
       "3  major advantage small molecule cell based scre...   \n",
       "4  elevation brain temperature common acute ische...   \n",
       "\n",
       "                                            abstract  \n",
       "0  objectivetaspoglutide is long acting glucagon ...  \n",
       "1  pancreatic cancer is one of the most aggressiv...  \n",
       "2  plasmacytoma is plasma cell neoplasm that loca...  \n",
       "3  summarywe have carried out cell based screen a...  \n",
       "4  brain temperature is elevated in acute ischemi...  "
      ]
     },
     "execution_count": 85,
     "metadata": {},
     "output_type": "execute_result"
    }
   ],
   "source": [
    "dataframe.head()"
   ]
  },
  {
   "cell_type": "code",
   "execution_count": 86,
   "id": "be6dc744",
   "metadata": {},
   "outputs": [],
   "source": [
    "df = pd.read_parquet(\"preprocessed_data.parquet\")"
   ]
  },
  {
   "cell_type": "code",
   "execution_count": 87,
   "id": "4c3adc91",
   "metadata": {},
   "outputs": [
    {
     "data": {
      "text/plain": [
       "(10000, 2)"
      ]
     },
     "execution_count": 87,
     "metadata": {},
     "output_type": "execute_result"
    }
   ],
   "source": [
    "df.shape"
   ]
  }
 ],
 "metadata": {
  "colab": {
   "provenance": []
  },
  "kaggle": {
   "accelerator": "none",
   "dataSources": [],
   "dockerImageVersionId": 30746,
   "isGpuEnabled": false,
   "isInternetEnabled": true,
   "language": "python",
   "sourceType": "notebook"
  },
  "kernelspec": {
   "display_name": "Python 3 (ipykernel)",
   "language": "python",
   "name": "python3"
  },
  "language_info": {
   "codemirror_mode": {
    "name": "ipython",
    "version": 3
   },
   "file_extension": ".py",
   "mimetype": "text/x-python",
   "name": "python",
   "nbconvert_exporter": "python",
   "pygments_lexer": "ipython3",
   "version": "3.11.5"
  },
  "papermill": {
   "default_parameters": {},
   "duration": 3468.070948,
   "end_time": "2024-07-26T17:56:30.330612",
   "environment_variables": {},
   "exception": null,
   "input_path": "__notebook__.ipynb",
   "output_path": "__notebook__.ipynb",
   "parameters": {},
   "start_time": "2024-07-26T16:58:42.259664",
   "version": "2.5.0"
  },
  "widgets": {
   "application/vnd.jupyter.widget-state+json": {}
  }
 },
 "nbformat": 4,
 "nbformat_minor": 5
}
