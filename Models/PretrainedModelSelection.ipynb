{
  "cells": [
    {
      "cell_type": "markdown",
      "metadata": {},
      "source": [
        "Importing Required Libraries"
      ]
    },
    {
      "cell_type": "code",
      "execution_count": null,
      "metadata": {
        "id": "IfC8ejsrHhZ3"
      },
      "outputs": [],
      "source": [
        "!pip install transformers[sentencepiece] datasets rouge_score py7zr -q"
      ]
    },
    {
      "cell_type": "code",
      "execution_count": null,
      "metadata": {
        "colab": {
          "base_uri": "https://localhost:8080/"
        },
        "id": "cy3GaFtrCT3E",
        "outputId": "9168654e-6214-453a-d95e-b58fe26785a4"
      },
      "outputs": [
        {
          "name": "stderr",
          "output_type": "stream",
          "text": [
            "[nltk_data] Downloading package punkt to /root/nltk_data...\n",
            "[nltk_data]   Package punkt is already up-to-date!\n"
          ]
        }
      ],
      "source": [
        "from transformers import pipeline, set_seed\n",
        "import pandas as pd\n",
        "import nltk\n",
        "from nltk.tokenize import sent_tokenize\n",
        "nltk.download ('punkt')\n",
        "from datasets import load_metric"
      ]
    },
    {
      "cell_type": "code",
      "execution_count": null,
      "metadata": {
        "id": "pvOfZ7Jl0Uul"
      },
      "outputs": [],
      "source": [
        "# Data loading\n",
        "df = pd.read_parquet('preprocessed_data.parquet')"
      ]
    },
    {
      "cell_type": "code",
      "execution_count": null,
      "metadata": {
        "id": "y_13pbDIqUCW"
      },
      "outputs": [],
      "source": [
        "# Set the seed for reproducibility of random operations\n",
        "set_seed(42)\n",
        "\n",
        "# Extract the first 1000 characters from the 'article' column of the second row in the DataFrame\n",
        "sample_text = df.iloc[1]['article'][:1000]\n",
        "summary = {}"
      ]
    },
    {
      "cell_type": "code",
      "execution_count": null,
      "metadata": {
        "id": "QJPJH2wj0xLN"
      },
      "outputs": [],
      "source": [
        "# Define a function to generate a baseline summary consisting of the first three sentences\n",
        "def baseline_sum(text):\n",
        "  return \"\\n\".join(sent_tokenize(text)[:3])"
      ]
    },
    {
      "cell_type": "code",
      "execution_count": null,
      "metadata": {
        "colab": {
          "base_uri": "https://localhost:8080/",
          "height": 157
        },
        "id": "_GRBiWAL2QsY",
        "outputId": "a3d5d067-d57f-4c3b-e6ef-64b7b5414bf1"
      },
      "outputs": [
        {
          "data": {
            "application/vnd.google.colaboratory.intrinsic+json": {
              "type": "string"
            },
            "text/plain": [
              "'reactive oxygen species cytokines considered important factors pathogenesis pancreatic cancer one two source ros nicotinamide adenine dinucleotide phosphate oxidase involved pancreatic cancer development three ros activate signaling pathways mediated mitogen activated protein kinases nf janus kinase signal transducer activator transcription forty eight inhibits cancer cell apoptosis induces cytokine expression epithelial mesenchymal transition ten eleven high levels fibronectin laminin ten eleven cytokines fourteen observed pancreatic cancer growth factors fourteen extracellular matrix proteins ten cytokines one thousand four hundred seventeen shown activate nox pathogenesis pancreatic cancer development bioactive compounds curcumin genistein resveratrol antioxidant antitumor activities pancreatic cancer briefly review role ros cytokines pathogenesis pancreatic cancer addition bioactive compounds may prevent development pancreatic cancer also discussed since ros pro inflammatory cytoki'"
            ]
          },
          "execution_count": 8,
          "metadata": {},
          "output_type": "execute_result"
        }
      ],
      "source": [
        "summary['baseline'] = baseline_sum(sample_text)\n",
        "summary['baseline']"
      ]
    },
    {
      "cell_type": "markdown",
      "metadata": {
        "id": "XGCYM4NJJN2p"
      },
      "source": [
        "# **GPT-2**"
      ]
    },
    {
      "cell_type": "code",
      "execution_count": null,
      "metadata": {
        "colab": {
          "base_uri": "https://localhost:8080/"
        },
        "id": "srnZo8S1CdKC",
        "outputId": "69ab4f09-c861-42fb-d751-098994d4d560"
      },
      "outputs": [
        {
          "name": "stderr",
          "output_type": "stream",
          "text": [
            "/usr/local/lib/python3.10/dist-packages/huggingface_hub/utils/_token.py:89: UserWarning: \n",
            "The secret `HF_TOKEN` does not exist in your Colab secrets.\n",
            "To authenticate with the Hugging Face Hub, create a token in your settings tab (https://huggingface.co/settings/tokens), set it as secret in your Google Colab and restart your session.\n",
            "You will be able to reuse this secret in all of your notebooks.\n",
            "Please note that authentication is recommended but still optional to access public models or datasets.\n",
            "  warnings.warn(\n",
            "Truncation was not explicitly activated but `max_length` is provided a specific value, please use `truncation=True` to explicitly truncate examples to max length. Defaulting to 'longest_first' truncation strategy. If you encode pairs of sequences (GLUE-style) with the tokenizer you can select this strategy more precisely by providing a specific strategy to `truncation`.\n",
            "Setting `pad_token_id` to `eos_token_id`:50256 for open-end generation.\n"
          ]
        }
      ],
      "source": [
        "out = pipeline(\"text-generation\", model=\"gpt2-medium\")\n",
        "gpt2_text = sample_text + \"\\nTL;DR:\\n\"\n",
        "output = out(gpt2_text, max_length=512, clean_up_tokenization_spaces=True)"
      ]
    },
    {
      "cell_type": "code",
      "execution_count": null,
      "metadata": {
        "colab": {
          "base_uri": "https://localhost:8080/"
        },
        "id": "eFaydFPzGBUq",
        "outputId": "daa36ab1-349f-44e3-f77a-26d21eebc3cf"
      },
      "outputs": [
        {
          "data": {
            "text/plain": [
              "[{'generated_text': \"reactive oxygen species cytokines considered important factors pathogenesis pancreatic cancer one two source ros nicotinamide adenine dinucleotide phosphate oxidase involved pancreatic cancer development three ros activate signaling pathways mediated mitogen activated protein kinases nf janus kinase signal transducer activator transcription forty eight inhibits cancer cell apoptosis induces cytokine expression epithelial mesenchymal transition ten eleven high levels fibronectin laminin ten eleven cytokines fourteen observed pancreatic cancer growth factors fourteen extracellular matrix proteins ten cytokines one thousand four hundred seventeen shown activate nox pathogenesis pancreatic cancer development bioactive compounds curcumin genistein resveratrol antioxidant antitumor activities pancreatic cancer briefly review role ros cytokines pathogenesis pancreatic cancer addition bioactive compounds may prevent development pancreatic cancer also discussed since ros pro inflammatory cytoki\\nTL;DR:\\nTo what extent do you need to consider different ros supplementation options in order to benefit from supplementation? The ros pro pro inflammatory pathways such as TNF-α, IL-6, MAPK, TIMP-1, T-helper or IL-24 can cause serious adverse effects.\\nWhat are the prognosis indicators of each ros supplementation option such as cancer incidence and survival?\\n1) Outcomes include increased pancreatic function, reduction in pancreatic cancer recurrence rate, improvement in pancreatic cancer prognosis, lowered cancer burden and reduced pancreatic cancer mortality.\\n2) Results include reduced risk for recurrent cancer, reduced cancer incidence, increased pancreatic cancer mortality, less cancer recurrence and improved pancreatic cancer prognosis.\\nThe ros cytokines, including interleukin-6, IFN-γ, IL-1β, IL-12, TNF-α, IL-13 and LPS induce an imbalance between the anti and proinflammatory pathways. These cytokines have been shown to influence cancer development and progression in animals.\\nMany of the ros proinflammatory agents are administered orally although some can be administered via injectable formulations.\\nSome ros can increase insulin and leptin levels.\\n4) Onset occurs between months 10 and 14 weeks. It is very difficult to detect the impact of ros on cancer progression because prognostic studies don't have enough power to detect progression in some cancer cells unless tumor has a definite anti-proliferative effect or tumor responds to anti-proliferative treatments.\\nFor cancer, ros Progesterone is\"}]"
            ]
          },
          "execution_count": 10,
          "metadata": {},
          "output_type": "execute_result"
        }
      ],
      "source": [
        "output"
      ]
    },
    {
      "cell_type": "code",
      "execution_count": null,
      "metadata": {
        "id": "WHzecFdqGehJ"
      },
      "outputs": [],
      "source": [
        "# Tokenize sentences\n",
        "summary['gpt2'] = \"\\n\".join(sent_tokenize(output[0]['generated_text'][len(gpt2_text):]))"
      ]
    },
    {
      "cell_type": "markdown",
      "metadata": {
        "id": "bVPXVJdvJvtc"
      },
      "source": [
        "# **T5**"
      ]
    },
    {
      "cell_type": "code",
      "execution_count": null,
      "metadata": {
        "id": "1bSFio1dJuPf"
      },
      "outputs": [],
      "source": [
        "out = pipeline(\"summarization\", model=\"t5-small\")\n",
        "output = out(sample_text)"
      ]
    },
    {
      "cell_type": "code",
      "execution_count": null,
      "metadata": {
        "colab": {
          "base_uri": "https://localhost:8080/"
        },
        "id": "8J-rHW2uKGQq",
        "outputId": "54d9c4e2-5947-40b8-e01f-f2a8cba374ce"
      },
      "outputs": [
        {
          "data": {
            "text/plain": [
              "[{'summary_text': 'ros nicotinamide adenine dinucleotide phosphate oxidase involved pancreatic cancer development three ros activate signaling pathways mediated mitogen activated protein kinases nf janus kine transducer activator transcription forty eight inhibits cancer cell apoptosis induces cytokine expression epithelial mesenchymal transition ten 11 high levels fibronectin laminin ten eleven cytokines'}]"
            ]
          },
          "execution_count": 14,
          "metadata": {},
          "output_type": "execute_result"
        }
      ],
      "source": [
        "output"
      ]
    },
    {
      "cell_type": "code",
      "execution_count": null,
      "metadata": {
        "id": "V04lJKtkKGNH"
      },
      "outputs": [],
      "source": [
        "summary['t5'] = \"\\n\".join(sent_tokenize(output[0]['summary_text']))"
      ]
    },
    {
      "cell_type": "markdown",
      "metadata": {
        "id": "XlUqg7P5LaBz"
      },
      "source": [
        "# **BART**"
      ]
    },
    {
      "cell_type": "code",
      "execution_count": null,
      "metadata": {
        "id": "gMBObd3HKGKm"
      },
      "outputs": [],
      "source": [
        "out = pipeline(\"summarization\", model=\"facebook/bart-large-cnn\")\n",
        "output = out(sample_text)"
      ]
    },
    {
      "cell_type": "code",
      "execution_count": null,
      "metadata": {
        "colab": {
          "base_uri": "https://localhost:8080/"
        },
        "id": "sJk-iKPeKF-s",
        "outputId": "c3b3d47c-6999-4903-dba7-c80746978b26"
      },
      "outputs": [
        {
          "data": {
            "text/plain": [
              "[{'summary_text': 'Pancreatic cancer briefly review role ros cytokines pathogenesis. bioactive compounds curcumin genistein resveratrol antioxidant antitumor activities. reactive oxygen species cytokines considered important factors pathogenesis pancreatic cancer one two source ros nicotinamide adenine dinucleotide phosphate oxidase involved pancreatic Cancer development.'}]"
            ]
          },
          "execution_count": 17,
          "metadata": {},
          "output_type": "execute_result"
        }
      ],
      "source": [
        "output"
      ]
    },
    {
      "cell_type": "code",
      "execution_count": null,
      "metadata": {
        "id": "Cnld3JxZMXEO"
      },
      "outputs": [],
      "source": [
        "summary['bart'] = \"\\n\".join(sent_tokenize(output[0]['summary_text']))"
      ]
    },
    {
      "cell_type": "code",
      "execution_count": null,
      "metadata": {
        "colab": {
          "base_uri": "https://localhost:8080/"
        },
        "id": "iyd970MaMdyt",
        "outputId": "1ad5aebe-f738-438f-9845-f174dc94faf7"
      },
      "outputs": [
        {
          "name": "stdout",
          "output_type": "stream",
          "text": [
            "Ground Truth\n",
            "pancreatic cancer is one of the most aggressive drug resistant and lethal types of cancer with poor prognosis various factors including reactive oxygen species cytokines growth factors and extracellular matrix proteins are reported to be involved in the development of pancreatic cancer however the pathogenesis of pancreatic cancer has not been completely elucidated oxidative stress has been shown to contribute to the development of pancreatic cancer evidences supporting the role of reactive oxygen species and cytokines as risk for pancreatic cancer and the concept of antioxidant supplementation as preventive approach for pancreatic cancer have been proposed here we review the literature on oxidative stress cytokine expression inflammatory signaling and natural antioxidant supplementation in relation to pancreatic cancer\n",
            "BASELINE\n",
            "reactive oxygen species cytokines considered important factors pathogenesis pancreatic cancer one two source ros nicotinamide adenine dinucleotide phosphate oxidase involved pancreatic cancer development three ros activate signaling pathways mediated mitogen activated protein kinases nf janus kinase signal transducer activator transcription forty eight inhibits cancer cell apoptosis induces cytokine expression epithelial mesenchymal transition ten eleven high levels fibronectin laminin ten eleven cytokines fourteen observed pancreatic cancer growth factors fourteen extracellular matrix proteins ten cytokines one thousand four hundred seventeen shown activate nox pathogenesis pancreatic cancer development bioactive compounds curcumin genistein resveratrol antioxidant antitumor activities pancreatic cancer briefly review role ros cytokines pathogenesis pancreatic cancer addition bioactive compounds may prevent development pancreatic cancer also discussed since ros pro inflammatory cytoki\n",
            "GPT2\n",
            "To what extent do you need to consider different ros supplementation options in order to benefit from supplementation?\n",
            "The ros pro pro inflammatory pathways such as TNF-α, IL-6, MAPK, TIMP-1, T-helper or IL-24 can cause serious adverse effects.\n",
            "What are the prognosis indicators of each ros supplementation option such as cancer incidence and survival?\n",
            "1) Outcomes include increased pancreatic function, reduction in pancreatic cancer recurrence rate, improvement in pancreatic cancer prognosis, lowered cancer burden and reduced pancreatic cancer mortality.\n",
            "2) Results include reduced risk for recurrent cancer, reduced cancer incidence, increased pancreatic cancer mortality, less cancer recurrence and improved pancreatic cancer prognosis.\n",
            "The ros cytokines, including interleukin-6, IFN-γ, IL-1β, IL-12, TNF-α, IL-13 and LPS induce an imbalance between the anti and proinflammatory pathways.\n",
            "These cytokines have been shown to influence cancer development and progression in animals.\n",
            "Many of the ros proinflammatory agents are administered orally although some can be administered via injectable formulations.\n",
            "Some ros can increase insulin and leptin levels.\n",
            "4) Onset occurs between months 10 and 14 weeks.\n",
            "It is very difficult to detect the impact of ros on cancer progression because prognostic studies don't have enough power to detect progression in some cancer cells unless tumor has a definite anti-proliferative effect or tumor responds to anti-proliferative treatments.\n",
            "For cancer, ros Progesterone is\n",
            "T5\n",
            "ros nicotinamide adenine dinucleotide phosphate oxidase involved pancreatic cancer development three ros activate signaling pathways mediated mitogen activated protein kinases nf janus kine transducer activator transcription forty eight inhibits cancer cell apoptosis induces cytokine expression epithelial mesenchymal transition ten 11 high levels fibronectin laminin ten eleven cytokines\n",
            "BART\n",
            "Pancreatic cancer briefly review role ros cytokines pathogenesis.\n",
            "bioactive compounds curcumin genistein resveratrol antioxidant antitumor activities.\n",
            "reactive oxygen species cytokines considered important factors pathogenesis pancreatic cancer one two source ros nicotinamide adenine dinucleotide phosphate oxidase involved pancreatic Cancer development.\n"
          ]
        }
      ],
      "source": [
        "print('Ground Truth')\n",
        "print(df.iloc[1]['abstract'])\n",
        "\n",
        "for model_name in summary:\n",
        "  print(model_name.upper())\n",
        "  print(summary[model_name])"
      ]
    },
    {
      "cell_type": "markdown",
      "metadata": {},
      "source": [
        "Measuring Rouge Metrics"
      ]
    },
    {
      "cell_type": "code",
      "execution_count": null,
      "metadata": {
        "colab": {
          "base_uri": "https://localhost:8080/"
        },
        "id": "BTydHkxIN5Pf",
        "outputId": "e8d281ac-c2b6-4e79-de8d-2cce83e143a2"
      },
      "outputs": [
        {
          "name": "stderr",
          "output_type": "stream",
          "text": [
            "<ipython-input-20-90542a62301a>:1: FutureWarning: load_metric is deprecated and will be removed in the next major version of datasets. Use 'evaluate.load' instead, from the new library 🤗 Evaluate: https://huggingface.co/docs/evaluate\n",
            "  rouge_metric = load_metric('rouge')\n"
          ]
        }
      ],
      "source": [
        "rouge_score = load_metric('rouge')"
      ]
    },
    {
      "cell_type": "code",
      "execution_count": null,
      "metadata": {
        "id": "R0f63dGJN5Eg"
      },
      "outputs": [],
      "source": [
        "rouge_type = [\"rouge1\", \"rouge2\", \"rougeL\", \"rougeLsum\"]"
      ]
    },
    {
      "cell_type": "code",
      "execution_count": null,
      "metadata": {
        "colab": {
          "base_uri": "https://localhost:8080/",
          "height": 244
        },
        "id": "SPuRYTHVN4rZ",
        "outputId": "93dfa4f4-907e-4bc5-9337-10657438dcb3"
      },
      "outputs": [
        {
          "name": "stdout",
          "output_type": "stream",
          "text": [
            "rouge_dict {'rouge1': 0.3319148936170213, 'rouge2': 0.12017167381974249, 'rougeL': 0.19574468085106383, 'rougeLsum': 0.19574468085106383}\n",
            "rouge_dict {'rouge1': 0.3206997084548105, 'rouge2': 0.05865102639296187, 'rougeL': 0.14577259475218662, 'rougeLsum': 0.22157434402332363}\n",
            "rouge_dict {'rouge1': 0.10975609756097561, 'rouge2': 0.024691358024691357, 'rougeL': 0.08536585365853658, 'rougeLsum': 0.08536585365853658}\n",
            "rouge_dict {'rouge1': 0.24358974358974358, 'rouge2': 0.07792207792207792, 'rougeL': 0.15384615384615385, 'rougeLsum': 0.1794871794871795}\n"
          ]
        },
        {
          "data": {
            "application/vnd.google.colaboratory.intrinsic+json": {
              "summary": "{\n  \"name\": \"pd\",\n  \"rows\": 4,\n  \"fields\": [\n    {\n      \"column\": \"rouge1\",\n      \"properties\": {\n        \"dtype\": \"number\",\n        \"std\": 0.10232148749505589,\n        \"min\": 0.10975609756097561,\n        \"max\": 0.3319148936170213,\n        \"num_unique_values\": 4,\n        \"samples\": [\n          0.3206997084548105,\n          0.24358974358974358,\n          0.3319148936170213\n        ],\n        \"semantic_type\": \"\",\n        \"description\": \"\"\n      }\n    },\n    {\n      \"column\": \"rouge2\",\n      \"properties\": {\n        \"dtype\": \"number\",\n        \"std\": 0.039837640451759186,\n        \"min\": 0.024691358024691357,\n        \"max\": 0.12017167381974249,\n        \"num_unique_values\": 4,\n        \"samples\": [\n          0.05865102639296187,\n          0.07792207792207792,\n          0.12017167381974249\n        ],\n        \"semantic_type\": \"\",\n        \"description\": \"\"\n      }\n    },\n    {\n      \"column\": \"rougeL\",\n      \"properties\": {\n        \"dtype\": \"number\",\n        \"std\": 0.04549715163835148,\n        \"min\": 0.08536585365853658,\n        \"max\": 0.19574468085106383,\n        \"num_unique_values\": 4,\n        \"samples\": [\n          0.14577259475218662,\n          0.15384615384615385,\n          0.19574468085106383\n        ],\n        \"semantic_type\": \"\",\n        \"description\": \"\"\n      }\n    },\n    {\n      \"column\": \"rougeLsum\",\n      \"properties\": {\n        \"dtype\": \"number\",\n        \"std\": 0.05937021530509161,\n        \"min\": 0.08536585365853658,\n        \"max\": 0.22157434402332363,\n        \"num_unique_values\": 4,\n        \"samples\": [\n          0.22157434402332363,\n          0.1794871794871795,\n          0.19574468085106383\n        ],\n        \"semantic_type\": \"\",\n        \"description\": \"\"\n      }\n    }\n  ]\n}",
              "type": "dataframe"
            },
            "text/html": [
              "\n",
              "  <div id=\"df-261e1902-1742-48f8-8a7b-2a76bf1b2063\" class=\"colab-df-container\">\n",
              "    <div>\n",
              "<style scoped>\n",
              "    .dataframe tbody tr th:only-of-type {\n",
              "        vertical-align: middle;\n",
              "    }\n",
              "\n",
              "    .dataframe tbody tr th {\n",
              "        vertical-align: top;\n",
              "    }\n",
              "\n",
              "    .dataframe thead th {\n",
              "        text-align: right;\n",
              "    }\n",
              "</style>\n",
              "<table border=\"1\" class=\"dataframe\">\n",
              "  <thead>\n",
              "    <tr style=\"text-align: right;\">\n",
              "      <th></th>\n",
              "      <th>rouge1</th>\n",
              "      <th>rouge2</th>\n",
              "      <th>rougeL</th>\n",
              "      <th>rougeLsum</th>\n",
              "    </tr>\n",
              "  </thead>\n",
              "  <tbody>\n",
              "    <tr>\n",
              "      <th>baseline</th>\n",
              "      <td>0.331915</td>\n",
              "      <td>0.120172</td>\n",
              "      <td>0.195745</td>\n",
              "      <td>0.195745</td>\n",
              "    </tr>\n",
              "    <tr>\n",
              "      <th>gpt2</th>\n",
              "      <td>0.320700</td>\n",
              "      <td>0.058651</td>\n",
              "      <td>0.145773</td>\n",
              "      <td>0.221574</td>\n",
              "    </tr>\n",
              "    <tr>\n",
              "      <th>t5</th>\n",
              "      <td>0.109756</td>\n",
              "      <td>0.024691</td>\n",
              "      <td>0.085366</td>\n",
              "      <td>0.085366</td>\n",
              "    </tr>\n",
              "    <tr>\n",
              "      <th>bart</th>\n",
              "      <td>0.243590</td>\n",
              "      <td>0.077922</td>\n",
              "      <td>0.153846</td>\n",
              "      <td>0.179487</td>\n",
              "    </tr>\n",
              "  </tbody>\n",
              "</table>\n",
              "</div>\n",
              "    <div class=\"colab-df-buttons\">\n",
              "\n",
              "  <div class=\"colab-df-container\">\n",
              "    <button class=\"colab-df-convert\" onclick=\"convertToInteractive('df-261e1902-1742-48f8-8a7b-2a76bf1b2063')\"\n",
              "            title=\"Convert this dataframe to an interactive table.\"\n",
              "            style=\"display:none;\">\n",
              "\n",
              "  <svg xmlns=\"http://www.w3.org/2000/svg\" height=\"24px\" viewBox=\"0 -960 960 960\">\n",
              "    <path d=\"M120-120v-720h720v720H120Zm60-500h600v-160H180v160Zm220 220h160v-160H400v160Zm0 220h160v-160H400v160ZM180-400h160v-160H180v160Zm440 0h160v-160H620v160ZM180-180h160v-160H180v160Zm440 0h160v-160H620v160Z\"/>\n",
              "  </svg>\n",
              "    </button>\n",
              "\n",
              "  <style>\n",
              "    .colab-df-container {\n",
              "      display:flex;\n",
              "      gap: 12px;\n",
              "    }\n",
              "\n",
              "    .colab-df-convert {\n",
              "      background-color: #E8F0FE;\n",
              "      border: none;\n",
              "      border-radius: 50%;\n",
              "      cursor: pointer;\n",
              "      display: none;\n",
              "      fill: #1967D2;\n",
              "      height: 32px;\n",
              "      padding: 0 0 0 0;\n",
              "      width: 32px;\n",
              "    }\n",
              "\n",
              "    .colab-df-convert:hover {\n",
              "      background-color: #E2EBFA;\n",
              "      box-shadow: 0px 1px 2px rgba(60, 64, 67, 0.3), 0px 1px 3px 1px rgba(60, 64, 67, 0.15);\n",
              "      fill: #174EA6;\n",
              "    }\n",
              "\n",
              "    .colab-df-buttons div {\n",
              "      margin-bottom: 4px;\n",
              "    }\n",
              "\n",
              "    [theme=dark] .colab-df-convert {\n",
              "      background-color: #3B4455;\n",
              "      fill: #D2E3FC;\n",
              "    }\n",
              "\n",
              "    [theme=dark] .colab-df-convert:hover {\n",
              "      background-color: #434B5C;\n",
              "      box-shadow: 0px 1px 3px 1px rgba(0, 0, 0, 0.15);\n",
              "      filter: drop-shadow(0px 1px 2px rgba(0, 0, 0, 0.3));\n",
              "      fill: #FFFFFF;\n",
              "    }\n",
              "  </style>\n",
              "\n",
              "    <script>\n",
              "      const buttonEl =\n",
              "        document.querySelector('#df-261e1902-1742-48f8-8a7b-2a76bf1b2063 button.colab-df-convert');\n",
              "      buttonEl.style.display =\n",
              "        google.colab.kernel.accessAllowed ? 'block' : 'none';\n",
              "\n",
              "      async function convertToInteractive(key) {\n",
              "        const element = document.querySelector('#df-261e1902-1742-48f8-8a7b-2a76bf1b2063');\n",
              "        const dataTable =\n",
              "          await google.colab.kernel.invokeFunction('convertToInteractive',\n",
              "                                                    [key], {});\n",
              "        if (!dataTable) return;\n",
              "\n",
              "        const docLinkHtml = 'Like what you see? Visit the ' +\n",
              "          '<a target=\"_blank\" href=https://colab.research.google.com/notebooks/data_table.ipynb>data table notebook</a>'\n",
              "          + ' to learn more about interactive tables.';\n",
              "        element.innerHTML = '';\n",
              "        dataTable['output_type'] = 'display_data';\n",
              "        await google.colab.output.renderOutput(dataTable, element);\n",
              "        const docLink = document.createElement('div');\n",
              "        docLink.innerHTML = docLinkHtml;\n",
              "        element.appendChild(docLink);\n",
              "      }\n",
              "    </script>\n",
              "  </div>\n",
              "\n",
              "\n",
              "<div id=\"df-3d7eee87-8dc8-46e3-aac4-fbde52de8c3c\">\n",
              "  <button class=\"colab-df-quickchart\" onclick=\"quickchart('df-3d7eee87-8dc8-46e3-aac4-fbde52de8c3c')\"\n",
              "            title=\"Suggest charts\"\n",
              "            style=\"display:none;\">\n",
              "\n",
              "<svg xmlns=\"http://www.w3.org/2000/svg\" height=\"24px\"viewBox=\"0 0 24 24\"\n",
              "     width=\"24px\">\n",
              "    <g>\n",
              "        <path d=\"M19 3H5c-1.1 0-2 .9-2 2v14c0 1.1.9 2 2 2h14c1.1 0 2-.9 2-2V5c0-1.1-.9-2-2-2zM9 17H7v-7h2v7zm4 0h-2V7h2v10zm4 0h-2v-4h2v4z\"/>\n",
              "    </g>\n",
              "</svg>\n",
              "  </button>\n",
              "\n",
              "<style>\n",
              "  .colab-df-quickchart {\n",
              "      --bg-color: #E8F0FE;\n",
              "      --fill-color: #1967D2;\n",
              "      --hover-bg-color: #E2EBFA;\n",
              "      --hover-fill-color: #174EA6;\n",
              "      --disabled-fill-color: #AAA;\n",
              "      --disabled-bg-color: #DDD;\n",
              "  }\n",
              "\n",
              "  [theme=dark] .colab-df-quickchart {\n",
              "      --bg-color: #3B4455;\n",
              "      --fill-color: #D2E3FC;\n",
              "      --hover-bg-color: #434B5C;\n",
              "      --hover-fill-color: #FFFFFF;\n",
              "      --disabled-bg-color: #3B4455;\n",
              "      --disabled-fill-color: #666;\n",
              "  }\n",
              "\n",
              "  .colab-df-quickchart {\n",
              "    background-color: var(--bg-color);\n",
              "    border: none;\n",
              "    border-radius: 50%;\n",
              "    cursor: pointer;\n",
              "    display: none;\n",
              "    fill: var(--fill-color);\n",
              "    height: 32px;\n",
              "    padding: 0;\n",
              "    width: 32px;\n",
              "  }\n",
              "\n",
              "  .colab-df-quickchart:hover {\n",
              "    background-color: var(--hover-bg-color);\n",
              "    box-shadow: 0 1px 2px rgba(60, 64, 67, 0.3), 0 1px 3px 1px rgba(60, 64, 67, 0.15);\n",
              "    fill: var(--button-hover-fill-color);\n",
              "  }\n",
              "\n",
              "  .colab-df-quickchart-complete:disabled,\n",
              "  .colab-df-quickchart-complete:disabled:hover {\n",
              "    background-color: var(--disabled-bg-color);\n",
              "    fill: var(--disabled-fill-color);\n",
              "    box-shadow: none;\n",
              "  }\n",
              "\n",
              "  .colab-df-spinner {\n",
              "    border: 2px solid var(--fill-color);\n",
              "    border-color: transparent;\n",
              "    border-bottom-color: var(--fill-color);\n",
              "    animation:\n",
              "      spin 1s steps(1) infinite;\n",
              "  }\n",
              "\n",
              "  @keyframes spin {\n",
              "    0% {\n",
              "      border-color: transparent;\n",
              "      border-bottom-color: var(--fill-color);\n",
              "      border-left-color: var(--fill-color);\n",
              "    }\n",
              "    20% {\n",
              "      border-color: transparent;\n",
              "      border-left-color: var(--fill-color);\n",
              "      border-top-color: var(--fill-color);\n",
              "    }\n",
              "    30% {\n",
              "      border-color: transparent;\n",
              "      border-left-color: var(--fill-color);\n",
              "      border-top-color: var(--fill-color);\n",
              "      border-right-color: var(--fill-color);\n",
              "    }\n",
              "    40% {\n",
              "      border-color: transparent;\n",
              "      border-right-color: var(--fill-color);\n",
              "      border-top-color: var(--fill-color);\n",
              "    }\n",
              "    60% {\n",
              "      border-color: transparent;\n",
              "      border-right-color: var(--fill-color);\n",
              "    }\n",
              "    80% {\n",
              "      border-color: transparent;\n",
              "      border-right-color: var(--fill-color);\n",
              "      border-bottom-color: var(--fill-color);\n",
              "    }\n",
              "    90% {\n",
              "      border-color: transparent;\n",
              "      border-bottom-color: var(--fill-color);\n",
              "    }\n",
              "  }\n",
              "</style>\n",
              "\n",
              "  <script>\n",
              "    async function quickchart(key) {\n",
              "      const quickchartButtonEl =\n",
              "        document.querySelector('#' + key + ' button');\n",
              "      quickchartButtonEl.disabled = true;  // To prevent multiple clicks.\n",
              "      quickchartButtonEl.classList.add('colab-df-spinner');\n",
              "      try {\n",
              "        const charts = await google.colab.kernel.invokeFunction(\n",
              "            'suggestCharts', [key], {});\n",
              "      } catch (error) {\n",
              "        console.error('Error during call to suggestCharts:', error);\n",
              "      }\n",
              "      quickchartButtonEl.classList.remove('colab-df-spinner');\n",
              "      quickchartButtonEl.classList.add('colab-df-quickchart-complete');\n",
              "    }\n",
              "    (() => {\n",
              "      let quickchartButtonEl =\n",
              "        document.querySelector('#df-3d7eee87-8dc8-46e3-aac4-fbde52de8c3c button');\n",
              "      quickchartButtonEl.style.display =\n",
              "        google.colab.kernel.accessAllowed ? 'block' : 'none';\n",
              "    })();\n",
              "  </script>\n",
              "</div>\n",
              "\n",
              "    </div>\n",
              "  </div>\n"
            ],
            "text/plain": [
              "            rouge1    rouge2    rougeL  rougeLsum\n",
              "baseline  0.331915  0.120172  0.195745   0.195745\n",
              "gpt2      0.320700  0.058651  0.145773   0.221574\n",
              "t5        0.109756  0.024691  0.085366   0.085366\n",
              "bart      0.243590  0.077922  0.153846   0.179487"
            ]
          },
          "execution_count": 22,
          "metadata": {},
          "output_type": "execute_result"
        }
      ],
      "source": [
        "reference = df.iloc[1]['abstract']\n",
        "\n",
        "result = []\n",
        "\n",
        "for model_name in summary:\n",
        "  rouge_score.add(prediction=summary[model_name], reference=reference)\n",
        "  score = rouge_score.compute()\n",
        "  rouge_dict = dict((rn, score[rn].mid.fmeasure ) for rn in rouge_type )\n",
        "  print('rouge_dict', rouge_dict)\n",
        "  result.append(rouge_dict)\n",
        "\n",
        "pd.DataFrame.from_records(result, index=summary.keys())"
      ]
    },
    {
      "cell_type": "markdown",
      "metadata": {},
      "source": [
        "## Conclusion"
      ]
    },
    {
      "cell_type": "markdown",
      "metadata": {},
      "source": [
        "When all the criteria are taken into account, GPT-2 performs the best. This is especially true given its high ROUGE-Lsum score, which denotes improved overall coherence and sentence structure. When it comes to content overlap, the baseline sets a high standard, whereas GPT-2 produces summaries that are more consistent. Although BART trails GPT-2 in some important areas, it nevertheless performs comparably. T5 has the lowest overall performance."
      ]
    }
  ],
  "metadata": {
    "colab": {
      "provenance": []
    },
    "kernelspec": {
      "display_name": "Python 3",
      "name": "python3"
    },
    "language_info": {
      "name": "python"
    }
  },
  "nbformat": 4,
  "nbformat_minor": 0
}
